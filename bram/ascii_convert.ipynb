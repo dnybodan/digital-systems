{
 "cells": [
  {
   "cell_type": "code",
   "execution_count": null,
   "metadata": {},
   "outputs": [
    {
     "ename": "",
     "evalue": "",
     "output_type": "error",
     "traceback": [
      "\u001b[1;31mRunning cells with 'dev-casper' requires the ipykernel package.\n",
      "\u001b[1;31mRun the following command to install 'ipykernel' into the Python environment. \n",
      "\u001b[1;31mCommand: 'conda install -n dev-casper ipykernel --update-deps --force-reinstall'"
     ]
    }
   ],
   "source": [
    "input_string = \"\"\"Rise all loyal Cougars and hurl your challenge to the foe.\\n\n",
    "You will fight, day or night, rain or snow.\\n\n",
    "Loyal, strong, and true\\n\n",
    "Wear the white and blue.\\n\n",
    "While we sing, get set to spring.\\n\n",
    "Come on Cougars it's up to you. Oh!\\n\\n\n",
    "\n",
    "Chorus:\\n\n",
    "Rise and shout, the Cougars are out\\n\n",
    "along the trail to fame and glory.\\n\n",
    "Rise and shout, our cheers will ring out\\n\n",
    "As you unfold your victr'y story.\\n\\n\n",
    "\n",
    "On you go to vanquish the foe for Alma Mater's sons and daughters.\\n\n",
    "As we join in song, in praise of you, our faith is strong.\\n\n",
    "We'll raise our colors high in the blue\\n\n",
    "And cheer our Cougars of BYU.\"\"\"\n",
    "\n",
    "# convert the input string to streams of ascii bytes that are 256 bits long, bytes start from the right(LSB)\n",
    "# also format for initializing a BRAM in system verilog \".INIT_00(256'hxxxxxx...)\"\n",
    "def ascii_convert(input_string):\n",
    "    # convert the input string to ascii bytes\n",
    "    ascii_bytes = [ord(c) for c in input_string]\n",
    "    # convert the ascii bytes to hex strings\n",
    "\n",
    "    # format the hex strings to 256 bits with the bytes starting from the right\n",
    "    # (LSB)\n",
    "    hex_strings = []\n",
    "    for i in range(len(ascii_bytes)):\n",
    "        hex_strings.append(format(ascii_bytes[i], '02x'))\n",
    "    # group each 256 bits into a string\n",
    "    hex_strings_256 = []\n",
    "    for i in range(0, len(hex_strings), 32):\n",
    "        hex_strings_256.append(''.join(hex_strings[i:i + 32]))\n",
    "    # for each group of 32 bytes, flip the byte ordering so the bytes start from the right (LSB)\n",
    "    for i in range(len(hex_strings_256)):\n",
    "        hex_strings_256[i] = ''.join([hex_strings_256[i][j:j + 2] for j in range(0, len(hex_strings_256[i]), 2)][::-1])\n",
    "    # format the string to be used in system verilog\n",
    "    for i in range(len(hex_strings_256)):\n",
    "        # zero padd to the left if there is less than 256 bits\n",
    "        hex_strings_256[i] = hex_strings_256[i].zfill(64)\n",
    "        hex_strings_256[i] = \".INIT_0%d(256'h%s),\"% (i, hex_strings_256[i])\n",
    "    # print the hex strings\n",
    "    for i in range(len(hex_strings_256)):\n",
    "        print(hex_strings_256[i])\n",
    "\n",
    "ascii_convert(input_string)"
   ]
  },
  {
   "cell_type": "code",
   "execution_count": null,
   "metadata": {},
   "outputs": [],
   "source": []
  }
 ],
 "metadata": {
  "kernelspec": {
   "display_name": "casper-dev3",
   "language": "python",
   "name": "python3"
  },
  "language_info": {
   "name": "python",
   "version": "3.8.13"
  }
 },
 "nbformat": 4,
 "nbformat_minor": 2
}
